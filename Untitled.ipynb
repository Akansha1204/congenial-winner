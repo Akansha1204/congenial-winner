{
 "cells": [
  {
   "cell_type": "code",
   "execution_count": 7,
   "id": "451467b0-726b-422f-8c77-6bba2ba70a16",
   "metadata": {},
   "outputs": [],
   "source": [
    "import numpy as np\n",
    "import pandas as pd\n",
    "import matlpotlib. as plt\n",
    "import seaborn as sns\n",
    "df=pd.read_csv(\"ESD.csv\" , encoding=\"unicode_escape\")\n"
   ]
  },
  {
   "cell_type": "code",
   "execution_count": 8,
   "id": "0d14b3e5-299b-4897-83ef-1788470daeb1",
   "metadata": {},
   "outputs": [
    {
     "data": {
      "text/plain": [
       "(1000, 14)"
      ]
     },
     "execution_count": 8,
     "metadata": {},
     "output_type": "execute_result"
    }
   ],
   "source": [
    "df.shape #check no. of rows and columns"
   ]
  },
  {
   "cell_type": "code",
   "execution_count": 92,
   "id": "8c07160f-b8fa-4071-a144-f286ff9dd089",
   "metadata": {},
   "outputs": [
    {
     "data": {
      "text/plain": [
       "Index(['EEID', 'Full Name', 'Job Title', 'Department', 'Business Unit',\n",
       "       'Gender', 'Ethnicity', 'Age', 'Hire Date', 'Salary', 'Bonus', 'Country',\n",
       "       'City', 'Exit Date'],\n",
       "      dtype='object')"
      ]
     },
     "execution_count": 92,
     "metadata": {},
     "output_type": "execute_result"
    }
   ],
   "source": [
    "df.columns #check for titles in columns\n",
    "\n"
   ]
  },
  {
   "cell_type": "code",
   "execution_count": 14,
   "id": "185934c2-45e4-4f27-8cef-e3eece0f27c8",
   "metadata": {},
   "outputs": [
    {
     "data": {
      "text/html": [
       "<div>\n",
       "<style scoped>\n",
       "    .dataframe tbody tr th:only-of-type {\n",
       "        vertical-align: middle;\n",
       "    }\n",
       "\n",
       "    .dataframe tbody tr th {\n",
       "        vertical-align: top;\n",
       "    }\n",
       "\n",
       "    .dataframe thead th {\n",
       "        text-align: right;\n",
       "    }\n",
       "</style>\n",
       "<table border=\"1\" class=\"dataframe\">\n",
       "  <thead>\n",
       "    <tr style=\"text-align: right;\">\n",
       "      <th></th>\n",
       "      <th>EEID</th>\n",
       "      <th>Full Name</th>\n",
       "      <th>Job Title</th>\n",
       "      <th>Department</th>\n",
       "      <th>Business Unit</th>\n",
       "      <th>Gender</th>\n",
       "      <th>Ethnicity</th>\n",
       "      <th>Age</th>\n",
       "      <th>Hire Date</th>\n",
       "      <th>Annual Salary</th>\n",
       "      <th>Bonus %</th>\n",
       "      <th>Country</th>\n",
       "      <th>City</th>\n",
       "      <th>Exit Date</th>\n",
       "    </tr>\n",
       "  </thead>\n",
       "  <tbody>\n",
       "    <tr>\n",
       "      <th>890</th>\n",
       "      <td>E01225</td>\n",
       "      <td>Christian Fong</td>\n",
       "      <td>Manager</td>\n",
       "      <td>Sales</td>\n",
       "      <td>Research &amp; Development</td>\n",
       "      <td>Male</td>\n",
       "      <td>Asian</td>\n",
       "      <td>49</td>\n",
       "      <td>8/10/2012</td>\n",
       "      <td>$109,850</td>\n",
       "      <td>7%</td>\n",
       "      <td>China</td>\n",
       "      <td>Beijing</td>\n",
       "      <td>2/4/2020</td>\n",
       "    </tr>\n",
       "    <tr>\n",
       "      <th>895</th>\n",
       "      <td>E00203</td>\n",
       "      <td>Julia Doan</td>\n",
       "      <td>Business Partner</td>\n",
       "      <td>Human Resources</td>\n",
       "      <td>Speciality Products</td>\n",
       "      <td>Female</td>\n",
       "      <td>Asian</td>\n",
       "      <td>53</td>\n",
       "      <td>9/7/2017</td>\n",
       "      <td>$46,727</td>\n",
       "      <td>0%</td>\n",
       "      <td>United States</td>\n",
       "      <td>Columbus</td>\n",
       "      <td>5/31/2018</td>\n",
       "    </tr>\n",
       "    <tr>\n",
       "      <th>905</th>\n",
       "      <td>E03863</td>\n",
       "      <td>Madeline Watson</td>\n",
       "      <td>Account Representative</td>\n",
       "      <td>Sales</td>\n",
       "      <td>Research &amp; Development</td>\n",
       "      <td>Female</td>\n",
       "      <td>Black</td>\n",
       "      <td>40</td>\n",
       "      <td>5/27/2009</td>\n",
       "      <td>$62,411</td>\n",
       "      <td>0%</td>\n",
       "      <td>United States</td>\n",
       "      <td>Miami</td>\n",
       "      <td>8/14/2021</td>\n",
       "    </tr>\n",
       "    <tr>\n",
       "      <th>908</th>\n",
       "      <td>E01339</td>\n",
       "      <td>Jeremiah Hernandez</td>\n",
       "      <td>Network Engineer</td>\n",
       "      <td>IT</td>\n",
       "      <td>Manufacturing</td>\n",
       "      <td>Male</td>\n",
       "      <td>Latino</td>\n",
       "      <td>26</td>\n",
       "      <td>4/14/2019</td>\n",
       "      <td>$74,467</td>\n",
       "      <td>0%</td>\n",
       "      <td>United States</td>\n",
       "      <td>Columbus</td>\n",
       "      <td>1/15/2021</td>\n",
       "    </tr>\n",
       "    <tr>\n",
       "      <th>957</th>\n",
       "      <td>E00758</td>\n",
       "      <td>Alice Roberts</td>\n",
       "      <td>Director</td>\n",
       "      <td>Human Resources</td>\n",
       "      <td>Manufacturing</td>\n",
       "      <td>Female</td>\n",
       "      <td>Caucasian</td>\n",
       "      <td>54</td>\n",
       "      <td>9/26/1994</td>\n",
       "      <td>$162,978</td>\n",
       "      <td>17%</td>\n",
       "      <td>United States</td>\n",
       "      <td>Miami</td>\n",
       "      <td>5/24/2004</td>\n",
       "    </tr>\n",
       "    <tr>\n",
       "      <th>963</th>\n",
       "      <td>E03305</td>\n",
       "      <td>Cooper Jiang</td>\n",
       "      <td>Analyst II</td>\n",
       "      <td>Accounting</td>\n",
       "      <td>Corporate</td>\n",
       "      <td>Male</td>\n",
       "      <td>Asian</td>\n",
       "      <td>49</td>\n",
       "      <td>7/25/2019</td>\n",
       "      <td>$50,883</td>\n",
       "      <td>0%</td>\n",
       "      <td>China</td>\n",
       "      <td>Chongqing</td>\n",
       "      <td>3/2/2021</td>\n",
       "    </tr>\n",
       "    <tr>\n",
       "      <th>982</th>\n",
       "      <td>E03247</td>\n",
       "      <td>Aaliyah Mai</td>\n",
       "      <td>Vice President</td>\n",
       "      <td>IT</td>\n",
       "      <td>Speciality Products</td>\n",
       "      <td>Female</td>\n",
       "      <td>Asian</td>\n",
       "      <td>57</td>\n",
       "      <td>11/11/2016</td>\n",
       "      <td>$246,589</td>\n",
       "      <td>33%</td>\n",
       "      <td>United States</td>\n",
       "      <td>Phoenix</td>\n",
       "      <td>3/26/2017</td>\n",
       "    </tr>\n",
       "    <tr>\n",
       "      <th>983</th>\n",
       "      <td>E02703</td>\n",
       "      <td>Austin Vang</td>\n",
       "      <td>Manager</td>\n",
       "      <td>Marketing</td>\n",
       "      <td>Speciality Products</td>\n",
       "      <td>Male</td>\n",
       "      <td>Asian</td>\n",
       "      <td>49</td>\n",
       "      <td>5/20/2018</td>\n",
       "      <td>$119,397</td>\n",
       "      <td>9%</td>\n",
       "      <td>China</td>\n",
       "      <td>Beijing</td>\n",
       "      <td>3/14/2019</td>\n",
       "    </tr>\n",
       "    <tr>\n",
       "      <th>991</th>\n",
       "      <td>E03430</td>\n",
       "      <td>Leo Herrera</td>\n",
       "      <td>Sr. Business Partner</td>\n",
       "      <td>Human Resources</td>\n",
       "      <td>Research &amp; Development</td>\n",
       "      <td>Male</td>\n",
       "      <td>Latino</td>\n",
       "      <td>48</td>\n",
       "      <td>4/22/1998</td>\n",
       "      <td>$85,369</td>\n",
       "      <td>0%</td>\n",
       "      <td>Brazil</td>\n",
       "      <td>Manaus</td>\n",
       "      <td>11/27/2004</td>\n",
       "    </tr>\n",
       "    <tr>\n",
       "      <th>996</th>\n",
       "      <td>E01909</td>\n",
       "      <td>Lillian Khan</td>\n",
       "      <td>Analyst</td>\n",
       "      <td>Finance</td>\n",
       "      <td>Speciality Products</td>\n",
       "      <td>Female</td>\n",
       "      <td>Asian</td>\n",
       "      <td>44</td>\n",
       "      <td>5/31/2010</td>\n",
       "      <td>$47,387</td>\n",
       "      <td>0%</td>\n",
       "      <td>China</td>\n",
       "      <td>Chengdu</td>\n",
       "      <td>1/8/2018</td>\n",
       "    </tr>\n",
       "  </tbody>\n",
       "</table>\n",
       "</div>"
      ],
      "text/plain": [
       "       EEID           Full Name               Job Title       Department  \\\n",
       "890  E01225      Christian Fong                 Manager            Sales   \n",
       "895  E00203          Julia Doan        Business Partner  Human Resources   \n",
       "905  E03863     Madeline Watson  Account Representative            Sales   \n",
       "908  E01339  Jeremiah Hernandez        Network Engineer               IT   \n",
       "957  E00758       Alice Roberts                Director  Human Resources   \n",
       "963  E03305        Cooper Jiang              Analyst II       Accounting   \n",
       "982  E03247         Aaliyah Mai          Vice President               IT   \n",
       "983  E02703         Austin Vang                 Manager        Marketing   \n",
       "991  E03430         Leo Herrera    Sr. Business Partner  Human Resources   \n",
       "996  E01909        Lillian Khan                 Analyst          Finance   \n",
       "\n",
       "              Business Unit  Gender  Ethnicity  Age   Hire Date Annual Salary  \\\n",
       "890  Research & Development    Male      Asian   49   8/10/2012     $109,850    \n",
       "895     Speciality Products  Female      Asian   53    9/7/2017      $46,727    \n",
       "905  Research & Development  Female      Black   40   5/27/2009      $62,411    \n",
       "908           Manufacturing    Male     Latino   26   4/14/2019      $74,467    \n",
       "957           Manufacturing  Female  Caucasian   54   9/26/1994     $162,978    \n",
       "963               Corporate    Male      Asian   49   7/25/2019      $50,883    \n",
       "982     Speciality Products  Female      Asian   57  11/11/2016     $246,589    \n",
       "983     Speciality Products    Male      Asian   49   5/20/2018     $119,397    \n",
       "991  Research & Development    Male     Latino   48   4/22/1998      $85,369    \n",
       "996     Speciality Products  Female      Asian   44   5/31/2010      $47,387    \n",
       "\n",
       "    Bonus %        Country       City   Exit Date  \n",
       "890     7%           China    Beijing    2/4/2020  \n",
       "895     0%   United States   Columbus   5/31/2018  \n",
       "905     0%   United States      Miami   8/14/2021  \n",
       "908     0%   United States   Columbus   1/15/2021  \n",
       "957    17%   United States      Miami   5/24/2004  \n",
       "963     0%           China  Chongqing    3/2/2021  \n",
       "982    33%   United States    Phoenix   3/26/2017  \n",
       "983     9%           China    Beijing   3/14/2019  \n",
       "991     0%          Brazil     Manaus  11/27/2004  \n",
       "996     0%           China    Chengdu    1/8/2018  "
      ]
     },
     "execution_count": 14,
     "metadata": {},
     "output_type": "execute_result"
    }
   ],
   "source": [
    "df.head(10) #show  top 10 and lst 10 data in df\n",
    "df.tail(10)"
   ]
  },
  {
   "cell_type": "code",
   "execution_count": 53,
   "id": "dace0843-88cb-4552-aea0-90a7f53f80cd",
   "metadata": {},
   "outputs": [
    {
     "name": "stdout",
     "output_type": "stream",
     "text": [
      "<class 'pandas.core.frame.DataFrame'>\n",
      "Index: 85 entries, 0 to 996\n",
      "Data columns (total 14 columns):\n",
      " #   Column         Non-Null Count  Dtype \n",
      "---  ------         --------------  ----- \n",
      " 0   EEID           85 non-null     object\n",
      " 1   Full Name      85 non-null     object\n",
      " 2   Job Title      85 non-null     object\n",
      " 3   Department     85 non-null     object\n",
      " 4   Business Unit  85 non-null     object\n",
      " 5   Gender         85 non-null     object\n",
      " 6   Ethnicity      85 non-null     object\n",
      " 7   Age            85 non-null     int64 \n",
      " 8   Hire Date      85 non-null     object\n",
      " 9   Salary         85 non-null     object\n",
      " 10  Bonus          85 non-null     object\n",
      " 11  Country        85 non-null     object\n",
      " 12  City           85 non-null     object\n",
      " 13  Exit Date      85 non-null     object\n",
      "dtypes: int64(1), object(13)\n",
      "memory usage: 12.0+ KB\n"
     ]
    }
   ],
   "source": [
    "df.info()"
   ]
  },
  {
   "cell_type": "code",
   "execution_count": 11,
   "id": "e8378ee4-79e5-49dd-b43d-76e8a519b710",
   "metadata": {},
   "outputs": [
    {
     "data": {
      "text/plain": [
       "EEID               0\n",
       "Full Name          0\n",
       "Job Title          0\n",
       "Department         0\n",
       "Business Unit      0\n",
       "Gender             0\n",
       "Ethnicity          0\n",
       "Age                0\n",
       "Hire Date          0\n",
       "Annual Salary      0\n",
       "Bonus %            0\n",
       "Country            0\n",
       "City               0\n",
       "Exit Date        915\n",
       "dtype: int64"
      ]
     },
     "execution_count": 11,
     "metadata": {},
     "output_type": "execute_result"
    }
   ],
   "source": [
    "pd.isnull(df).sum()"
   ]
  },
  {
   "cell_type": "code",
   "execution_count": 93,
   "id": "4ba9b662-3743-44f1-bd8d-0e7fc635e51f",
   "metadata": {},
   "outputs": [
    {
     "data": {
      "text/html": [
       "<div>\n",
       "<style scoped>\n",
       "    .dataframe tbody tr th:only-of-type {\n",
       "        vertical-align: middle;\n",
       "    }\n",
       "\n",
       "    .dataframe tbody tr th {\n",
       "        vertical-align: top;\n",
       "    }\n",
       "\n",
       "    .dataframe thead th {\n",
       "        text-align: right;\n",
       "    }\n",
       "</style>\n",
       "<table border=\"1\" class=\"dataframe\">\n",
       "  <thead>\n",
       "    <tr style=\"text-align: right;\">\n",
       "      <th></th>\n",
       "      <th>Age</th>\n",
       "    </tr>\n",
       "  </thead>\n",
       "  <tbody>\n",
       "    <tr>\n",
       "      <th>count</th>\n",
       "      <td>85.000000</td>\n",
       "    </tr>\n",
       "    <tr>\n",
       "      <th>mean</th>\n",
       "      <td>42.964706</td>\n",
       "    </tr>\n",
       "    <tr>\n",
       "      <th>std</th>\n",
       "      <td>10.676462</td>\n",
       "    </tr>\n",
       "    <tr>\n",
       "      <th>min</th>\n",
       "      <td>25.000000</td>\n",
       "    </tr>\n",
       "    <tr>\n",
       "      <th>25%</th>\n",
       "      <td>34.000000</td>\n",
       "    </tr>\n",
       "    <tr>\n",
       "      <th>50%</th>\n",
       "      <td>44.000000</td>\n",
       "    </tr>\n",
       "    <tr>\n",
       "      <th>75%</th>\n",
       "      <td>52.000000</td>\n",
       "    </tr>\n",
       "    <tr>\n",
       "      <th>max</th>\n",
       "      <td>65.000000</td>\n",
       "    </tr>\n",
       "  </tbody>\n",
       "</table>\n",
       "</div>"
      ],
      "text/plain": [
       "             Age\n",
       "count  85.000000\n",
       "mean   42.964706\n",
       "std    10.676462\n",
       "min    25.000000\n",
       "25%    34.000000\n",
       "50%    44.000000\n",
       "75%    52.000000\n",
       "max    65.000000"
      ]
     },
     "execution_count": 93,
     "metadata": {},
     "output_type": "execute_result"
    }
   ],
   "source": [
    "df[['Age']].describe() #display all the statistics related to datatype int \n",
    "\n"
   ]
  },
  {
   "cell_type": "code",
   "execution_count": 94,
   "id": "ef0c4593-6d2d-4901-a2b0-0f8d194d7199",
   "metadata": {},
   "outputs": [
    {
     "name": "stdout",
     "output_type": "stream",
     "text": [
      "       EEID         Full Name               Job Title       Department  \\\n",
      "750  E02642  Sebastian Rogers            HRIS Analyst  Human Resources   \n",
      "414  E00553         Isla Yoon        Quality Engineer      Engineering   \n",
      "895  E00203        Julia Doan        Business Partner  Human Resources   \n",
      "728  E02440    Grayson Turner     Solutions Architect               IT   \n",
      "159  E00431       Skylar Doan    Sr. Business Partner  Human Resources   \n",
      "104  E01261    Connor Simmons              Analyst II       Accounting   \n",
      "742  E01429      Dylan Wilson   Network Administrator               IT   \n",
      "905  E03863   Madeline Watson  Account Representative            Sales   \n",
      "199  E02639     Hadley Parker          Vice President        Marketing   \n",
      "868  E04464       Cooper Yoon     Engineering Manager      Engineering   \n",
      "\n",
      "              Business Unit  Gender  Ethnicity  Age   Hire Date     Salary  \\\n",
      "750  Research & Development    Male  Caucasian   38  11/29/2019   $69,647    \n",
      "414  Research & Development  Female      Asian   50   5/10/2013   $79,388    \n",
      "895     Speciality Products  Female      Asian   53    9/7/2017   $46,727    \n",
      "728               Corporate    Male  Caucasian   54   6/30/1992   $63,196    \n",
      "159  Research & Development  Female      Asian   58   8/21/1994   $93,102    \n",
      "104     Speciality Products    Male  Caucasian   55    4/5/2007   $52,310    \n",
      "742  Research & Development    Male  Caucasian   48   9/27/2006   $76,505    \n",
      "905  Research & Development  Female      Black   40   5/27/2009   $62,411    \n",
      "199               Corporate  Female      Black   30   9/21/2016  $221,217    \n",
      "868  Research & Development    Male      Asian   60   2/15/2018  $106,079    \n",
      "\n",
      "    Bonus        Country      City   Exit Date  \n",
      "750   0%   United States     Miami   4/20/2022  \n",
      "414   0%   United States    Austin    8/4/2019  \n",
      "895   0%   United States  Columbus   5/31/2018  \n",
      "728   0%   United States   Chicago  10/26/2014  \n",
      "159   0%   United States   Seattle  12/13/2013  \n",
      "104   0%   United States     Miami  10/12/2018  \n",
      "742   0%   United States   Seattle    4/8/2007  \n",
      "905   0%   United States     Miami   8/14/2021  \n",
      "199  32%   United States  Columbus   9/25/2017  \n",
      "868  14%   United States    Austin    4/9/2021  \n"
     ]
    }
   ],
   "source": [
    "print (df.sample(10))"
   ]
  },
  {
   "cell_type": "code",
   "execution_count": 21,
   "id": "5acf3896-e788-4eb1-9c88-e26f88bc36bb",
   "metadata": {},
   "outputs": [
    {
     "data": {
      "text/plain": [
       "0      55.0\n",
       "7       NaN\n",
       "14      NaN\n",
       "40      NaN\n",
       "61      NaN\n",
       "       ... \n",
       "963     NaN\n",
       "982    57.0\n",
       "983     NaN\n",
       "991     NaN\n",
       "996     NaN\n",
       "Name: Age, Length: 85, dtype: float64"
      ]
     },
     "execution_count": 21,
     "metadata": {},
     "output_type": "execute_result"
    }
   ],
   "source": [
    "df['Age'].where(df['Age'] > 50) \n"
   ]
  },
  {
   "cell_type": "code",
   "execution_count": 41,
   "id": "48a08d73-1270-4480-a2db-ce83d4292025",
   "metadata": {},
   "outputs": [
    {
     "name": "stdout",
     "output_type": "stream",
     "text": [
      "       EEID        Full Name             Job Title       Department  \\\n",
      "0    E02387      Emily Davis            Sr. Manger               IT   \n",
      "7    E04332      Luke Martin               Analyst          Finance   \n",
      "14   E03496      Robert Yang           Sr. Analyst       Accounting   \n",
      "40   E01754         Owen Lam  Sr. Business Partner  Human Resources   \n",
      "61   E00502  Natalia Salazar           Sr. Analyst       Accounting   \n",
      "..      ...              ...                   ...              ...   \n",
      "963  E03305     Cooper Jiang            Analyst II       Accounting   \n",
      "982  E03247      Aaliyah Mai        Vice President               IT   \n",
      "983  E02703      Austin Vang               Manager        Marketing   \n",
      "991  E03430      Leo Herrera  Sr. Business Partner  Human Resources   \n",
      "996  E01909     Lillian Khan               Analyst          Finance   \n",
      "\n",
      "              Business Unit  Gender Ethnicity  Age   Hire Date     Salary  \\\n",
      "0    Research & Development  Female     Black   55    4/8/2016  $141,604    \n",
      "7             Manufacturing    Male     Black   25   5/16/2020   $41,336    \n",
      "14      Speciality Products    Male     Asian   31   11/4/2017   $97,078    \n",
      "40      Speciality Products    Male     Asian   30   5/29/2017   $86,317    \n",
      "61            Manufacturing  Female    Latino   44    1/2/2019   $74,691    \n",
      "..                      ...     ...       ...  ...         ...        ...   \n",
      "963               Corporate    Male     Asian   49   7/25/2019   $50,883    \n",
      "982     Speciality Products  Female     Asian   57  11/11/2016  $246,589    \n",
      "983     Speciality Products    Male     Asian   49   5/20/2018  $119,397    \n",
      "991  Research & Development    Male    Latino   48   4/22/1998   $85,369    \n",
      "996     Speciality Products  Female     Asian   44   5/31/2010   $47,387    \n",
      "\n",
      "    Bonus        Country       City   Exit Date  \n",
      "0    15%   United States    Seattle  10/16/2021  \n",
      "7     0%   United States      Miami   5/20/2021  \n",
      "14    0%   United States     Austin    3/9/2020  \n",
      "40    0%           China    Chengdu   7/16/2017  \n",
      "61    0%          Brazil     Manaus    7/8/2020  \n",
      "..    ...            ...        ...         ...  \n",
      "963   0%           China  Chongqing    3/2/2021  \n",
      "982  33%   United States    Phoenix   3/26/2017  \n",
      "983   9%           China    Beijing   3/14/2019  \n",
      "991   0%          Brazil     Manaus  11/27/2004  \n",
      "996   0%           China    Chengdu    1/8/2018  \n",
      "\n",
      "[85 rows x 14 columns]\n"
     ]
    }
   ],
   "source": [
    "df.rename(columns={'Bonus %': 'Bonus',\n",
    "                   'Annual Salary': 'Salary',\n",
    "                   'Age': 'Age'},\n",
    "          inplace=True)\n",
    "print(df)\n"
   ]
  },
  {
   "cell_type": "code",
   "execution_count": 46,
   "id": "4c8f736f-0b43-44d3-8c61-4d8e84580c6f",
   "metadata": {},
   "outputs": [
    {
     "data": {
      "text/html": [
       "<div>\n",
       "<style scoped>\n",
       "    .dataframe tbody tr th:only-of-type {\n",
       "        vertical-align: middle;\n",
       "    }\n",
       "\n",
       "    .dataframe tbody tr th {\n",
       "        vertical-align: top;\n",
       "    }\n",
       "\n",
       "    .dataframe thead th {\n",
       "        text-align: right;\n",
       "    }\n",
       "</style>\n",
       "<table border=\"1\" class=\"dataframe\">\n",
       "  <thead>\n",
       "    <tr style=\"text-align: right;\">\n",
       "      <th></th>\n",
       "      <th>Salary</th>\n",
       "    </tr>\n",
       "  </thead>\n",
       "  <tbody>\n",
       "    <tr>\n",
       "      <th>count</th>\n",
       "      <td>85</td>\n",
       "    </tr>\n",
       "    <tr>\n",
       "      <th>unique</th>\n",
       "      <td>85</td>\n",
       "    </tr>\n",
       "    <tr>\n",
       "      <th>top</th>\n",
       "      <td>$141,604</td>\n",
       "    </tr>\n",
       "    <tr>\n",
       "      <th>freq</th>\n",
       "      <td>1</td>\n",
       "    </tr>\n",
       "  </tbody>\n",
       "</table>\n",
       "</div>"
      ],
      "text/plain": [
       "           Salary\n",
       "count          85\n",
       "unique         85\n",
       "top     $141,604 \n",
       "freq            1"
      ]
     },
     "execution_count": 46,
     "metadata": {},
     "output_type": "execute_result"
    }
   ],
   "source": [
    "\n",
    "df[['Salary']].describe()"
   ]
  },
  {
   "cell_type": "code",
   "execution_count": 47,
   "id": "ffb9a3f6-7996-4ace-9613-fb32c0b61a8e",
   "metadata": {},
   "outputs": [
    {
     "data": {
      "text/html": [
       "<div>\n",
       "<style scoped>\n",
       "    .dataframe tbody tr th:only-of-type {\n",
       "        vertical-align: middle;\n",
       "    }\n",
       "\n",
       "    .dataframe tbody tr th {\n",
       "        vertical-align: top;\n",
       "    }\n",
       "\n",
       "    .dataframe thead th {\n",
       "        text-align: right;\n",
       "    }\n",
       "</style>\n",
       "<table border=\"1\" class=\"dataframe\">\n",
       "  <thead>\n",
       "    <tr style=\"text-align: right;\">\n",
       "      <th></th>\n",
       "      <th>Bonus</th>\n",
       "    </tr>\n",
       "  </thead>\n",
       "  <tbody>\n",
       "    <tr>\n",
       "      <th>count</th>\n",
       "      <td>85</td>\n",
       "    </tr>\n",
       "    <tr>\n",
       "      <th>unique</th>\n",
       "      <td>22</td>\n",
       "    </tr>\n",
       "    <tr>\n",
       "      <th>top</th>\n",
       "      <td>0%</td>\n",
       "    </tr>\n",
       "    <tr>\n",
       "      <th>freq</th>\n",
       "      <td>49</td>\n",
       "    </tr>\n",
       "  </tbody>\n",
       "</table>\n",
       "</div>"
      ],
      "text/plain": [
       "       Bonus\n",
       "count     85\n",
       "unique    22\n",
       "top      0% \n",
       "freq      49"
      ]
     },
     "execution_count": 47,
     "metadata": {},
     "output_type": "execute_result"
    }
   ],
   "source": [
    "df[['Bonus']].describe()"
   ]
  },
  {
   "cell_type": "code",
   "execution_count": 48,
   "id": "2608250a-2cef-4a63-8b27-769f9f317319",
   "metadata": {},
   "outputs": [
    {
     "data": {
      "text/html": [
       "<div>\n",
       "<style scoped>\n",
       "    .dataframe tbody tr th:only-of-type {\n",
       "        vertical-align: middle;\n",
       "    }\n",
       "\n",
       "    .dataframe tbody tr th {\n",
       "        vertical-align: top;\n",
       "    }\n",
       "\n",
       "    .dataframe thead th {\n",
       "        text-align: right;\n",
       "    }\n",
       "</style>\n",
       "<table border=\"1\" class=\"dataframe\">\n",
       "  <thead>\n",
       "    <tr style=\"text-align: right;\">\n",
       "      <th></th>\n",
       "      <th>Age</th>\n",
       "    </tr>\n",
       "  </thead>\n",
       "  <tbody>\n",
       "    <tr>\n",
       "      <th>count</th>\n",
       "      <td>85.000000</td>\n",
       "    </tr>\n",
       "    <tr>\n",
       "      <th>mean</th>\n",
       "      <td>42.964706</td>\n",
       "    </tr>\n",
       "    <tr>\n",
       "      <th>std</th>\n",
       "      <td>10.676462</td>\n",
       "    </tr>\n",
       "    <tr>\n",
       "      <th>min</th>\n",
       "      <td>25.000000</td>\n",
       "    </tr>\n",
       "    <tr>\n",
       "      <th>25%</th>\n",
       "      <td>34.000000</td>\n",
       "    </tr>\n",
       "    <tr>\n",
       "      <th>50%</th>\n",
       "      <td>44.000000</td>\n",
       "    </tr>\n",
       "    <tr>\n",
       "      <th>75%</th>\n",
       "      <td>52.000000</td>\n",
       "    </tr>\n",
       "    <tr>\n",
       "      <th>max</th>\n",
       "      <td>65.000000</td>\n",
       "    </tr>\n",
       "  </tbody>\n",
       "</table>\n",
       "</div>"
      ],
      "text/plain": [
       "             Age\n",
       "count  85.000000\n",
       "mean   42.964706\n",
       "std    10.676462\n",
       "min    25.000000\n",
       "25%    34.000000\n",
       "50%    44.000000\n",
       "75%    52.000000\n",
       "max    65.000000"
      ]
     },
     "execution_count": 48,
     "metadata": {},
     "output_type": "execute_result"
    }
   ],
   "source": [
    "df[['Age']].describe()"
   ]
  },
  {
   "cell_type": "code",
   "execution_count": 22,
   "id": "801398fb-b75b-4233-b028-328119984f1b",
   "metadata": {},
   "outputs": [],
   "source": [
    "\n",
    "df.dropna(inplace=True)"
   ]
  },
  {
   "cell_type": "code",
   "execution_count": 23,
   "id": "8bfe723c-ceb4-450b-a394-e34346994487",
   "metadata": {},
   "outputs": [
    {
     "data": {
      "text/plain": [
       "0      55.0\n",
       "7       NaN\n",
       "14      NaN\n",
       "40      NaN\n",
       "61      NaN\n",
       "       ... \n",
       "963     NaN\n",
       "982    57.0\n",
       "983     NaN\n",
       "991     NaN\n",
       "996     NaN\n",
       "Name: Age, Length: 85, dtype: float64"
      ]
     },
     "execution_count": 23,
     "metadata": {},
     "output_type": "execute_result"
    }
   ],
   "source": [
    "df['Age'].where(df['Age'] > 50)"
   ]
  },
  {
   "cell_type": "code",
   "execution_count": null,
   "id": "3122e7f0-fdbb-480e-a990-b7da242fd101",
   "metadata": {},
   "outputs": [],
   "source": []
  },
  {
   "cell_type": "code",
   "execution_count": 27,
   "id": "14d97ba0-eec5-4a53-9191-ce6ba2fa30a9",
   "metadata": {},
   "outputs": [
    {
     "data": {
      "text/html": [
       "<div>\n",
       "<style scoped>\n",
       "    .dataframe tbody tr th:only-of-type {\n",
       "        vertical-align: middle;\n",
       "    }\n",
       "\n",
       "    .dataframe tbody tr th {\n",
       "        vertical-align: top;\n",
       "    }\n",
       "\n",
       "    .dataframe thead th {\n",
       "        text-align: right;\n",
       "    }\n",
       "</style>\n",
       "<table border=\"1\" class=\"dataframe\">\n",
       "  <thead>\n",
       "    <tr style=\"text-align: right;\">\n",
       "      <th></th>\n",
       "      <th>Age</th>\n",
       "    </tr>\n",
       "  </thead>\n",
       "  <tbody>\n",
       "    <tr>\n",
       "      <th>count</th>\n",
       "      <td>85.000000</td>\n",
       "    </tr>\n",
       "    <tr>\n",
       "      <th>mean</th>\n",
       "      <td>42.964706</td>\n",
       "    </tr>\n",
       "    <tr>\n",
       "      <th>std</th>\n",
       "      <td>10.676462</td>\n",
       "    </tr>\n",
       "    <tr>\n",
       "      <th>min</th>\n",
       "      <td>25.000000</td>\n",
       "    </tr>\n",
       "    <tr>\n",
       "      <th>25%</th>\n",
       "      <td>34.000000</td>\n",
       "    </tr>\n",
       "    <tr>\n",
       "      <th>50%</th>\n",
       "      <td>44.000000</td>\n",
       "    </tr>\n",
       "    <tr>\n",
       "      <th>75%</th>\n",
       "      <td>52.000000</td>\n",
       "    </tr>\n",
       "    <tr>\n",
       "      <th>max</th>\n",
       "      <td>65.000000</td>\n",
       "    </tr>\n",
       "  </tbody>\n",
       "</table>\n",
       "</div>"
      ],
      "text/plain": [
       "             Age\n",
       "count  85.000000\n",
       "mean   42.964706\n",
       "std    10.676462\n",
       "min    25.000000\n",
       "25%    34.000000\n",
       "50%    44.000000\n",
       "75%    52.000000\n",
       "max    65.000000"
      ]
     },
     "execution_count": 27,
     "metadata": {},
     "output_type": "execute_result"
    }
   ],
   "source": [
    "df[['Age','Annual Salary','Bonus %']].describe()\n"
   ]
  },
  {
   "cell_type": "code",
   "execution_count": 29,
   "id": "732eced1-671a-4364-9176-b6f68ebb658c",
   "metadata": {},
   "outputs": [
    {
     "name": "stdout",
     "output_type": "stream",
     "text": [
      "       EEID    Full Name Job Title Department        Business Unit Gender  \\\n",
      "7    E04332  Luke Martin   Analyst    Finance        Manufacturing   Male   \n",
      "302  E01896  Adam Nelson  Director    Finance  Speciality Products   Male   \n",
      "\n",
      "     Ethnicity  Age  Hire Date Annual Salary Bonus %        Country     City  \\\n",
      "7        Black   25  5/16/2020      $41,336      0%   United States    Miami   \n",
      "302  Caucasian   25  1/14/2020     $168,014     27%   United States  Chicago   \n",
      "\n",
      "     Exit Date  \n",
      "7    5/20/2021  \n",
      "302  7/27/2021  \n"
     ]
    }
   ],
   "source": [
    "\n",
    "print(df.nsmallest(2, 'Age'))\n"
   ]
  },
  {
   "cell_type": "code",
   "execution_count": 31,
   "id": "b7760471-cfc3-4106-b4bc-42cbaf52cb6f",
   "metadata": {},
   "outputs": [
    {
     "name": "stdout",
     "output_type": "stream",
     "text": [
      "     EEID    Full Name Job Title Department  Business Unit Gender Ethnicity  \\\n",
      "7  E04332  Luke Martin   Analyst    Finance  Manufacturing   Male     Black   \n",
      "\n",
      "   Age  Hire Date Annual Salary Bonus %        Country   City  Exit Date  \n",
      "7   25  5/16/2020      $41,336      0%   United States  Miami  5/20/2021  \n"
     ]
    }
   ],
   "source": [
    "# Filter by row index\n",
    "print(df.filter(items=[7], axis=0))\n",
    "\n"
   ]
  },
  {
   "cell_type": "code",
   "execution_count": 33,
   "id": "cdaf74d2-8588-407f-9a91-3d2c4e862ced",
   "metadata": {},
   "outputs": [
    {
     "name": "stdout",
     "output_type": "stream",
     "text": [
      "     Age       Department Annual Salary\n",
      "0     55               IT     $141,604 \n",
      "7     25          Finance      $41,336 \n",
      "14    31       Accounting      $97,078 \n",
      "40    30  Human Resources      $86,317 \n",
      "61    44       Accounting      $74,691 \n",
      "..   ...              ...           ...\n",
      "963   49       Accounting      $50,883 \n",
      "982   57               IT     $246,589 \n",
      "983   49        Marketing     $119,397 \n",
      "991   48  Human Resources      $85,369 \n",
      "996   44          Finance      $47,387 \n",
      "\n",
      "[85 rows x 3 columns]\n"
     ]
    }
   ],
   "source": [
    "print(df.filter(items=['Age', 'Department', 'Annual Salary']))\n"
   ]
  },
  {
   "cell_type": "code",
   "execution_count": 69,
   "id": "975ce515-ae2c-4811-ac33-8521456457a7",
   "metadata": {},
   "outputs": [
    {
     "data": {
      "text/html": [
       "<div>\n",
       "<style scoped>\n",
       "    .dataframe tbody tr th:only-of-type {\n",
       "        vertical-align: middle;\n",
       "    }\n",
       "\n",
       "    .dataframe tbody tr th {\n",
       "        vertical-align: top;\n",
       "    }\n",
       "\n",
       "    .dataframe thead th {\n",
       "        text-align: right;\n",
       "    }\n",
       "</style>\n",
       "<table border=\"1\" class=\"dataframe\">\n",
       "  <thead>\n",
       "    <tr style=\"text-align: right;\">\n",
       "      <th></th>\n",
       "      <th>Age</th>\n",
       "    </tr>\n",
       "  </thead>\n",
       "  <tbody>\n",
       "    <tr>\n",
       "      <th>count</th>\n",
       "      <td>85.000000</td>\n",
       "    </tr>\n",
       "    <tr>\n",
       "      <th>mean</th>\n",
       "      <td>42.964706</td>\n",
       "    </tr>\n",
       "    <tr>\n",
       "      <th>std</th>\n",
       "      <td>10.676462</td>\n",
       "    </tr>\n",
       "    <tr>\n",
       "      <th>min</th>\n",
       "      <td>25.000000</td>\n",
       "    </tr>\n",
       "    <tr>\n",
       "      <th>25%</th>\n",
       "      <td>34.000000</td>\n",
       "    </tr>\n",
       "    <tr>\n",
       "      <th>50%</th>\n",
       "      <td>44.000000</td>\n",
       "    </tr>\n",
       "    <tr>\n",
       "      <th>75%</th>\n",
       "      <td>52.000000</td>\n",
       "    </tr>\n",
       "    <tr>\n",
       "      <th>max</th>\n",
       "      <td>65.000000</td>\n",
       "    </tr>\n",
       "  </tbody>\n",
       "</table>\n",
       "</div>"
      ],
      "text/plain": [
       "             Age\n",
       "count  85.000000\n",
       "mean   42.964706\n",
       "std    10.676462\n",
       "min    25.000000\n",
       "25%    34.000000\n",
       "50%    44.000000\n",
       "75%    52.000000\n",
       "max    65.000000"
      ]
     },
     "execution_count": 69,
     "metadata": {},
     "output_type": "execute_result"
    }
   ],
   "source": [
    "df['Salary'].astype('str')\n",
    "df.describe()"
   ]
  },
  {
   "cell_type": "code",
   "execution_count": 67,
   "id": "846f17fb-e28f-49d6-bfd6-cf52826434ec",
   "metadata": {},
   "outputs": [
    {
     "data": {
      "text/plain": [
       "42.96470588235294"
      ]
     },
     "execution_count": 67,
     "metadata": {},
     "output_type": "execute_result"
    }
   ],
   "source": [
    "df[\"Age\"].mean()"
   ]
  },
  {
   "cell_type": "code",
   "execution_count": 105,
   "id": "420cd654-9a21-4e92-9092-52e077338af4",
   "metadata": {},
   "outputs": [
    {
     "ename": "TypeError",
     "evalue": "could not convert string to float: '$141,604 '",
     "output_type": "error",
     "traceback": [
      "\u001b[1;31m---------------------------------------------------------------------------\u001b[0m",
      "\u001b[1;31mValueError\u001b[0m                                Traceback (most recent call last)",
      "File \u001b[1;32m~\\anaconda3\\Lib\\site-packages\\pandas\\core\\nanops.py:85\u001b[0m, in \u001b[0;36mdisallow.__call__.<locals>._f\u001b[1;34m(*args, **kwargs)\u001b[0m\n\u001b[0;32m     84\u001b[0m \u001b[38;5;28;01mtry\u001b[39;00m:\n\u001b[1;32m---> 85\u001b[0m     \u001b[38;5;28;01mreturn\u001b[39;00m f(\u001b[38;5;241m*\u001b[39margs, \u001b[38;5;241m*\u001b[39m\u001b[38;5;241m*\u001b[39mkwargs)\n\u001b[0;32m     86\u001b[0m \u001b[38;5;28;01mexcept\u001b[39;00m \u001b[38;5;167;01mValueError\u001b[39;00m \u001b[38;5;28;01mas\u001b[39;00m e:\n\u001b[0;32m     87\u001b[0m     \u001b[38;5;66;03m# we want to transform an object array\u001b[39;00m\n\u001b[0;32m     88\u001b[0m     \u001b[38;5;66;03m# ValueError message to the more typical TypeError\u001b[39;00m\n\u001b[0;32m     89\u001b[0m     \u001b[38;5;66;03m# e.g. this is normally a disallowed function on\u001b[39;00m\n\u001b[0;32m     90\u001b[0m     \u001b[38;5;66;03m# object arrays that contain strings\u001b[39;00m\n",
      "File \u001b[1;32m~\\anaconda3\\Lib\\site-packages\\pandas\\core\\nanops.py:147\u001b[0m, in \u001b[0;36mbottleneck_switch.__call__.<locals>.f\u001b[1;34m(values, axis, skipna, **kwds)\u001b[0m\n\u001b[0;32m    146\u001b[0m \u001b[38;5;28;01melse\u001b[39;00m:\n\u001b[1;32m--> 147\u001b[0m     result \u001b[38;5;241m=\u001b[39m alt(values, axis\u001b[38;5;241m=\u001b[39maxis, skipna\u001b[38;5;241m=\u001b[39mskipna, \u001b[38;5;241m*\u001b[39m\u001b[38;5;241m*\u001b[39mkwds)\n\u001b[0;32m    149\u001b[0m \u001b[38;5;28;01mreturn\u001b[39;00m result\n",
      "File \u001b[1;32m~\\anaconda3\\Lib\\site-packages\\pandas\\core\\nanops.py:1007\u001b[0m, in \u001b[0;36mnanvar\u001b[1;34m(values, axis, skipna, ddof, mask)\u001b[0m\n\u001b[0;32m   1001\u001b[0m \u001b[38;5;66;03m# xref GH10242\u001b[39;00m\n\u001b[0;32m   1002\u001b[0m \u001b[38;5;66;03m# Compute variance via two-pass algorithm, which is stable against\u001b[39;00m\n\u001b[0;32m   1003\u001b[0m \u001b[38;5;66;03m# cancellation errors and relatively accurate for small numbers of\u001b[39;00m\n\u001b[0;32m   1004\u001b[0m \u001b[38;5;66;03m# observations.\u001b[39;00m\n\u001b[0;32m   1005\u001b[0m \u001b[38;5;66;03m#\u001b[39;00m\n\u001b[0;32m   1006\u001b[0m \u001b[38;5;66;03m# See https://en.wikipedia.org/wiki/Algorithms_for_calculating_variance\u001b[39;00m\n\u001b[1;32m-> 1007\u001b[0m avg \u001b[38;5;241m=\u001b[39m _ensure_numeric(values\u001b[38;5;241m.\u001b[39msum(axis\u001b[38;5;241m=\u001b[39maxis, dtype\u001b[38;5;241m=\u001b[39mnp\u001b[38;5;241m.\u001b[39mfloat64)) \u001b[38;5;241m/\u001b[39m count\n\u001b[0;32m   1008\u001b[0m \u001b[38;5;28;01mif\u001b[39;00m axis \u001b[38;5;129;01mis\u001b[39;00m \u001b[38;5;129;01mnot\u001b[39;00m \u001b[38;5;28;01mNone\u001b[39;00m:\n",
      "File \u001b[1;32m~\\anaconda3\\Lib\\site-packages\\numpy\\core\\_methods.py:49\u001b[0m, in \u001b[0;36m_sum\u001b[1;34m(a, axis, dtype, out, keepdims, initial, where)\u001b[0m\n\u001b[0;32m     47\u001b[0m \u001b[38;5;28;01mdef\u001b[39;00m \u001b[38;5;21m_sum\u001b[39m(a, axis\u001b[38;5;241m=\u001b[39m\u001b[38;5;28;01mNone\u001b[39;00m, dtype\u001b[38;5;241m=\u001b[39m\u001b[38;5;28;01mNone\u001b[39;00m, out\u001b[38;5;241m=\u001b[39m\u001b[38;5;28;01mNone\u001b[39;00m, keepdims\u001b[38;5;241m=\u001b[39m\u001b[38;5;28;01mFalse\u001b[39;00m,\n\u001b[0;32m     48\u001b[0m          initial\u001b[38;5;241m=\u001b[39m_NoValue, where\u001b[38;5;241m=\u001b[39m\u001b[38;5;28;01mTrue\u001b[39;00m):\n\u001b[1;32m---> 49\u001b[0m     \u001b[38;5;28;01mreturn\u001b[39;00m umr_sum(a, axis, dtype, out, keepdims, initial, where)\n",
      "\u001b[1;31mValueError\u001b[0m: could not convert string to float: '$141,604 '",
      "\nThe above exception was the direct cause of the following exception:\n",
      "\u001b[1;31mTypeError\u001b[0m                                 Traceback (most recent call last)",
      "Cell \u001b[1;32mIn[105], line 1\u001b[0m\n\u001b[1;32m----> 1\u001b[0m df[\u001b[38;5;124m\"\u001b[39m\u001b[38;5;124mSalary\u001b[39m\u001b[38;5;124m\"\u001b[39m]\u001b[38;5;241m.\u001b[39mvar()\n",
      "File \u001b[1;32m~\\anaconda3\\Lib\\site-packages\\pandas\\core\\series.py:6257\u001b[0m, in \u001b[0;36mSeries.var\u001b[1;34m(self, axis, skipna, ddof, numeric_only, **kwargs)\u001b[0m\n\u001b[0;32m   6248\u001b[0m \u001b[38;5;129m@doc\u001b[39m(make_doc(\u001b[38;5;124m\"\u001b[39m\u001b[38;5;124mvar\u001b[39m\u001b[38;5;124m\"\u001b[39m, ndim\u001b[38;5;241m=\u001b[39m\u001b[38;5;241m1\u001b[39m))\n\u001b[0;32m   6249\u001b[0m \u001b[38;5;28;01mdef\u001b[39;00m \u001b[38;5;21mvar\u001b[39m(\n\u001b[0;32m   6250\u001b[0m     \u001b[38;5;28mself\u001b[39m,\n\u001b[1;32m   (...)\u001b[0m\n\u001b[0;32m   6255\u001b[0m     \u001b[38;5;241m*\u001b[39m\u001b[38;5;241m*\u001b[39mkwargs,\n\u001b[0;32m   6256\u001b[0m ):\n\u001b[1;32m-> 6257\u001b[0m     \u001b[38;5;28;01mreturn\u001b[39;00m NDFrame\u001b[38;5;241m.\u001b[39mvar(\u001b[38;5;28mself\u001b[39m, axis, skipna, ddof, numeric_only, \u001b[38;5;241m*\u001b[39m\u001b[38;5;241m*\u001b[39mkwargs)\n",
      "File \u001b[1;32m~\\anaconda3\\Lib\\site-packages\\pandas\\core\\generic.py:11918\u001b[0m, in \u001b[0;36mNDFrame.var\u001b[1;34m(self, axis, skipna, ddof, numeric_only, **kwargs)\u001b[0m\n\u001b[0;32m  11910\u001b[0m \u001b[38;5;28;01mdef\u001b[39;00m \u001b[38;5;21mvar\u001b[39m(\n\u001b[0;32m  11911\u001b[0m     \u001b[38;5;28mself\u001b[39m,\n\u001b[0;32m  11912\u001b[0m     axis: Axis \u001b[38;5;241m|\u001b[39m \u001b[38;5;28;01mNone\u001b[39;00m \u001b[38;5;241m=\u001b[39m \u001b[38;5;241m0\u001b[39m,\n\u001b[1;32m   (...)\u001b[0m\n\u001b[0;32m  11916\u001b[0m     \u001b[38;5;241m*\u001b[39m\u001b[38;5;241m*\u001b[39mkwargs,\n\u001b[0;32m  11917\u001b[0m ) \u001b[38;5;241m-\u001b[39m\u001b[38;5;241m>\u001b[39m Series \u001b[38;5;241m|\u001b[39m \u001b[38;5;28mfloat\u001b[39m:\n\u001b[1;32m> 11918\u001b[0m     \u001b[38;5;28;01mreturn\u001b[39;00m \u001b[38;5;28mself\u001b[39m\u001b[38;5;241m.\u001b[39m_stat_function_ddof(\n\u001b[0;32m  11919\u001b[0m         \u001b[38;5;124m\"\u001b[39m\u001b[38;5;124mvar\u001b[39m\u001b[38;5;124m\"\u001b[39m, nanops\u001b[38;5;241m.\u001b[39mnanvar, axis, skipna, ddof, numeric_only, \u001b[38;5;241m*\u001b[39m\u001b[38;5;241m*\u001b[39mkwargs\n\u001b[0;32m  11920\u001b[0m     )\n",
      "File \u001b[1;32m~\\anaconda3\\Lib\\site-packages\\pandas\\core\\generic.py:11894\u001b[0m, in \u001b[0;36mNDFrame._stat_function_ddof\u001b[1;34m(self, name, func, axis, skipna, ddof, numeric_only, **kwargs)\u001b[0m\n\u001b[0;32m  11891\u001b[0m \u001b[38;5;28;01melif\u001b[39;00m axis \u001b[38;5;129;01mis\u001b[39;00m lib\u001b[38;5;241m.\u001b[39mno_default:\n\u001b[0;32m  11892\u001b[0m     axis \u001b[38;5;241m=\u001b[39m \u001b[38;5;241m0\u001b[39m\n\u001b[1;32m> 11894\u001b[0m \u001b[38;5;28;01mreturn\u001b[39;00m \u001b[38;5;28mself\u001b[39m\u001b[38;5;241m.\u001b[39m_reduce(\n\u001b[0;32m  11895\u001b[0m     func, name, axis\u001b[38;5;241m=\u001b[39maxis, numeric_only\u001b[38;5;241m=\u001b[39mnumeric_only, skipna\u001b[38;5;241m=\u001b[39mskipna, ddof\u001b[38;5;241m=\u001b[39mddof\n\u001b[0;32m  11896\u001b[0m )\n",
      "File \u001b[1;32m~\\anaconda3\\Lib\\site-packages\\pandas\\core\\series.py:6133\u001b[0m, in \u001b[0;36mSeries._reduce\u001b[1;34m(self, op, name, axis, skipna, numeric_only, filter_type, **kwds)\u001b[0m\n\u001b[0;32m   6128\u001b[0m     \u001b[38;5;66;03m# GH#47500 - change to TypeError to match other methods\u001b[39;00m\n\u001b[0;32m   6129\u001b[0m     \u001b[38;5;28;01mraise\u001b[39;00m \u001b[38;5;167;01mTypeError\u001b[39;00m(\n\u001b[0;32m   6130\u001b[0m         \u001b[38;5;124mf\u001b[39m\u001b[38;5;124m\"\u001b[39m\u001b[38;5;124mSeries.\u001b[39m\u001b[38;5;132;01m{\u001b[39;00mname\u001b[38;5;132;01m}\u001b[39;00m\u001b[38;5;124m does not allow \u001b[39m\u001b[38;5;132;01m{\u001b[39;00mkwd_name\u001b[38;5;132;01m}\u001b[39;00m\u001b[38;5;124m=\u001b[39m\u001b[38;5;132;01m{\u001b[39;00mnumeric_only\u001b[38;5;132;01m}\u001b[39;00m\u001b[38;5;124m \u001b[39m\u001b[38;5;124m\"\u001b[39m\n\u001b[0;32m   6131\u001b[0m         \u001b[38;5;124m\"\u001b[39m\u001b[38;5;124mwith non-numeric dtypes.\u001b[39m\u001b[38;5;124m\"\u001b[39m\n\u001b[0;32m   6132\u001b[0m     )\n\u001b[1;32m-> 6133\u001b[0m \u001b[38;5;28;01mreturn\u001b[39;00m op(delegate, skipna\u001b[38;5;241m=\u001b[39mskipna, \u001b[38;5;241m*\u001b[39m\u001b[38;5;241m*\u001b[39mkwds)\n",
      "File \u001b[1;32m~\\anaconda3\\Lib\\site-packages\\pandas\\core\\nanops.py:92\u001b[0m, in \u001b[0;36mdisallow.__call__.<locals>._f\u001b[1;34m(*args, **kwargs)\u001b[0m\n\u001b[0;32m     86\u001b[0m \u001b[38;5;28;01mexcept\u001b[39;00m \u001b[38;5;167;01mValueError\u001b[39;00m \u001b[38;5;28;01mas\u001b[39;00m e:\n\u001b[0;32m     87\u001b[0m     \u001b[38;5;66;03m# we want to transform an object array\u001b[39;00m\n\u001b[0;32m     88\u001b[0m     \u001b[38;5;66;03m# ValueError message to the more typical TypeError\u001b[39;00m\n\u001b[0;32m     89\u001b[0m     \u001b[38;5;66;03m# e.g. this is normally a disallowed function on\u001b[39;00m\n\u001b[0;32m     90\u001b[0m     \u001b[38;5;66;03m# object arrays that contain strings\u001b[39;00m\n\u001b[0;32m     91\u001b[0m     \u001b[38;5;28;01mif\u001b[39;00m is_object_dtype(args[\u001b[38;5;241m0\u001b[39m]):\n\u001b[1;32m---> 92\u001b[0m         \u001b[38;5;28;01mraise\u001b[39;00m \u001b[38;5;167;01mTypeError\u001b[39;00m(e) \u001b[38;5;28;01mfrom\u001b[39;00m \u001b[38;5;21;01me\u001b[39;00m\n\u001b[0;32m     93\u001b[0m     \u001b[38;5;28;01mraise\u001b[39;00m\n",
      "\u001b[1;31mTypeError\u001b[0m: could not convert string to float: '$141,604 '"
     ]
    }
   ],
   "source": [
    "\n",
    "df[\"Salary\"].var()"
   ]
  },
  {
   "cell_type": "code",
   "execution_count": 20,
   "id": "82166a26-b33c-4ad0-a2fc-7c3d0620ecca",
   "metadata": {},
   "outputs": [
    {
     "data": {
      "text/plain": [
       "<Axes: ylabel='Frequency'>"
      ]
     },
     "execution_count": 20,
     "metadata": {},
     "output_type": "execute_result"
    },
    {
     "data": {
      "image/png": "[encoded data removed]",
      "text/plain": [
       "<Figure size 640x480 with 1 Axes>"
      ]
     },
     "metadata": {},
     "output_type": "display_data"
    }
   ],
   "source": [
    "df['Age'].plot.hist(bins=5, color=\"g\",edgecolor=\"r\",orientation=\"vertical\") \n",
    "#l=[10,20,30,40,50,60,70],cumulative=-1,rwidth=.8,histtype=step,stepfill,barstacked,log=true,label=age,)\n",
    "\n"
   ]
  },
  {
   "cell_type": "code",
   "execution_count": 53,
   "id": "bebcc115-6e55-444a-a8d8-14942e9147f1",
   "metadata": {},
   "outputs": [
    {
     "data": {
      "text/plain": [
       "<matplotlib.legend.Legend at 0x175e6668d90>"
      ]
     },
     "execution_count": 53,
     "metadata": {},
     "output_type": "execute_result"
    },
    {
     "data": {
      "image/png": "[encoded data removed]",
      "text/plain": [
       "<Figure size 640x480 with 1 Axes>"
      ]
     },
     "metadata": {},
     "output_type": "display_data"
    }
   ],
   "source": [
    "df.groupby(['Country']).sum().plot(kind='pie', y='Age', explode=ex,autopct=\"%0.2f%%\",shadow=True,radius=1,startangle=0,counterclock=False)\n",
    "ex=[0.3,0.0,0.0]\n",
    "plt.legend(loc=1)\n",
    "#c=[\"r\",\"y\",\"b\"]"
   ]
  },
  {
   "cell_type": "code",
   "execution_count": null,
   "id": "c6fc68e5-a866-439d-8c3e-390f8764fcc7",
   "metadata": {},
   "outputs": [],
   "source": []
  },
  {
   "cell_type": "code",
   "execution_count": 81,
   "id": "f0c852bf-ef01-43d9-98aa-4e0f3b75b54d",
   "metadata": {},
   "outputs": [
    {
     "data": {
      "text/plain": [
       "<Axes: xlabel='Age', ylabel='Country'>"
      ]
     },
     "execution_count": 81,
     "metadata": {},
     "output_type": "execute_result"
    },
    {
     "data": {
      "image/png": "[encoded data removed]",
      "text/plain": [
       "<Figure size 640x480 with 1 Axes>"
      ]
     },
     "metadata": {},
     "output_type": "display_data"
    }
   ],
   "source": [
    "df.plot.scatter(x='Age',y='Country')"
   ]
  },
  {
   "cell_type": "code",
   "execution_count": 84,
   "id": "1dee7fc6-195e-406e-a517-3cc94ec8e934",
   "metadata": {},
   "outputs": [
    {
     "data": {
      "text/plain": [
       "<Axes: xlabel='Country'>"
      ]
     },
     "execution_count": 84,
     "metadata": {},
     "output_type": "execute_result"
    },
    {
     "data": {
      "image/png": "[encoded data removed]",
      "text/plain": [
       "<Figure size 640x480 with 1 Axes>"
      ]
     },
     "metadata": {},
     "output_type": "display_data"
    }
   ],
   "source": [
    "df.plot.bar(x='FRUITS', y=['QUANTITY', 'PRICE', 'DISCOUNT'])"
   ]
  },
  {
   "cell_type": "code",
   "execution_count": 57,
   "id": "918a3ac4-e29d-4c5c-ba97-e5d84bc28f6b",
   "metadata": {},
   "outputs": [
    {
     "data": {
      "text/plain": [
       "<Axes: >"
      ]
     },
     "execution_count": 57,
     "metadata": {},
     "output_type": "execute_result"
    },
    {
     "data": {
      "image/png": "[encoded data removed]",
      "text/plain": [
       "<Figure size 640x480 with 1 Axes>"
      ]
     },
     "metadata": {},
     "output_type": "display_data"
    }
   ],
   "source": [
    "df.boxplot(column='Age', grid='False',notch=False,showmeans=True)"
   ]
  },
  {
   "cell_type": "code",
   "execution_count": 111,
   "id": "047350ae-7641-4c80-b07f-7c7dbef2eaea",
   "metadata": {},
   "outputs": [
    {
     "ename": "AttributeError",
     "evalue": "'Axes' object has no attribute 'countainers'",
     "output_type": "error",
     "traceback": [
      "\u001b[1;31m---------------------------------------------------------------------------\u001b[0m",
      "\u001b[1;31mAttributeError\u001b[0m                            Traceback (most recent call last)",
      "Cell \u001b[1;32mIn[111], line 5\u001b[0m\n\u001b[0;32m      2\u001b[0m \u001b[38;5;28;01mimport\u001b[39;00m \u001b[38;5;21;01mmatplotlib\u001b[39;00m\u001b[38;5;21;01m.\u001b[39;00m\u001b[38;5;21;01mpyplot\u001b[39;00m \u001b[38;5;28;01mas\u001b[39;00m \u001b[38;5;21;01mplt\u001b[39;00m\n\u001b[0;32m      3\u001b[0m ax\u001b[38;5;241m=\u001b[39msns\u001b[38;5;241m.\u001b[39mcountplot(x\u001b[38;5;241m=\u001b[39m\u001b[38;5;124m'\u001b[39m\u001b[38;5;124mGender\u001b[39m\u001b[38;5;124m'\u001b[39m,data\u001b[38;5;241m=\u001b[39mdf)\n\u001b[1;32m----> 5\u001b[0m \u001b[38;5;28;01mfor\u001b[39;00m bars \u001b[38;5;129;01min\u001b[39;00m ax\u001b[38;5;241m.\u001b[39mcountainers:\n\u001b[0;32m      6\u001b[0m     ax\u001b[38;5;241m.\u001b[39mbar_label(bars)\n\u001b[0;32m      7\u001b[0m     plt\u001b[38;5;241m.\u001b[39mshow()\n",
      "\u001b[1;31mAttributeError\u001b[0m: 'Axes' object has no attribute 'countainers'"
     ]
    },
    {
     "data": {
      "image/png": "[encoded data removed]",
      "text/plain": [
       "<Figure size 640x480 with 1 Axes>"
      ]
     },
     "metadata": {},
     "output_type": "display_data"
    }
   ],
   "source": [
    "import seaborn as sns\n",
    "import matplotlib.pyplot as plt\n",
    "ax=sns.countplot(x='Gender',data=df)\n",
    "\n",
    "for bars in ax.countainers:\n",
    "    ax.bar_label(bars)\n",
    "    plt.show()"
   ]
  },
  {
   "cell_type": "code",
   "execution_count": null,
   "id": "940709e8-1704-4d4f-bd48-6cfb5edb53e4",
   "metadata": {},
   "outputs": [],
   "source": [
    "import seaborn as sns\n",
    "import matplotlib.pyplot as plt\n",
    "ax=sns.countplot(x='Gender',data=df)\n",
    "\n",
    "for bars in ax.countainers:\n",
    "    ax.bar_label(bars)\n",
    "    plt.show()"
   ]
  },
  {
   "cell_type": "code",
   "execution_count": 7,
   "id": "e8791236-98c1-45ec-9de5-cd346fbfbf22",
   "metadata": {},
   "outputs": [],
   "source": [
    "import pandas as pd\n",
    "import numpy as np\n",
    "import matplotlib.pyplot as plt\n",
    "import seaborn as sns\n",
    "\n",
    "df=pd.read_csv(\"ESD.csv\" , encoding=\"unicode_escape\")"
   ]
  },
  {
   "cell_type": "code",
   "execution_count": 8,
   "id": "87c75163-c87d-4392-9766-7343b31f7d7a",
   "metadata": {},
   "outputs": [
    {
     "name": "stdout",
     "output_type": "stream",
     "text": [
      "<class 'pandas.core.frame.DataFrame'>\n",
      "RangeIndex: 1000 entries, 0 to 999\n",
      "Data columns (total 14 columns):\n",
      " #   Column         Non-Null Count  Dtype \n",
      "---  ------         --------------  ----- \n",
      " 0   EEID           1000 non-null   object\n",
      " 1   Full Name      1000 non-null   object\n",
      " 2   Job Title      1000 non-null   object\n",
      " 3   Department     1000 non-null   object\n",
      " 4   Business Unit  1000 non-null   object\n",
      " 5   Gender         1000 non-null   object\n",
      " 6   Ethnicity      1000 non-null   object\n",
      " 7   Age            1000 non-null   int64 \n",
      " 8   Hire Date      1000 non-null   object\n",
      " 9   Annual Salary  1000 non-null   object\n",
      " 10  Bonus %        1000 non-null   object\n",
      " 11  Country        1000 non-null   object\n",
      " 12  City           1000 non-null   object\n",
      " 13  Exit Date      85 non-null     object\n",
      "dtypes: int64(1), object(13)\n",
      "memory usage: 109.5+ KB\n"
     ]
    }
   ],
   "source": [
    "df.info()\n"
   ]
  },
  {
   "cell_type": "code",
   "execution_count": 10,
   "id": "39e31ce4-bffb-42f0-b5c1-5126d79a9ff7",
   "metadata": {},
   "outputs": [
    {
     "data": {
      "text/plain": [
       "<Axes: xlabel='Gender', ylabel='Age'>"
      ]
     },
     "execution_count": 10,
     "metadata": {},
     "output_type": "execute_result"
    },
    {
     "data": {
      "image/png": "[encoded data removed]",
      "text/plain": [
       "<Figure size 640x480 with 1 Axes>"
      ]
     },
     "metadata": {},
     "output_type": "display_data"
    }
   ],
   "source": []
  },
  {
   "cell_type": "code",
   "execution_count": null,
   "id": "834ba224-59c5-4247-a1c1-2feb001d3c1c",
   "metadata": {},
   "outputs": [],
   "source": []
  }
 ],
 "metadata": {
  "kernelspec": {
   "display_name": "Python 3 (ipykernel)",
   "language": "python",
   "name": "python3"
  },
  "language_info": {
   "codemirror_mode": {
    "name": "ipython",
    "version": 3
   },
   "file_extension": ".py",
   "mimetype": "text/x-python",
   "name": "python",
   "nbconvert_exporter": "python",
   "pygments_lexer": "ipython3",
   "version": "3.11.7"
  }
 },
 "nbformat": 4,
 "nbformat_minor": 5
}
